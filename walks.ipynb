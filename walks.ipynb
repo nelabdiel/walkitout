{
 "cells": [
  {
   "cell_type": "markdown",
   "metadata": {},
   "source": [
    "# How many walks does it take for a starting pitcher to get pulled? (Kaggle)\n"
   ]
  },
  {
   "cell_type": "markdown",
   "metadata": {},
   "source": [
    "## Starting pitchers tend to get pulled after 2 Walks."
   ]
  },
  {
   "cell_type": "markdown",
   "metadata": {},
   "source": [
    "### To do a more in depth study we would need a database of all games played with results and the information of the pitcher, so this analysis only scratches the surface of this very interesting question."
   ]
  },
  {
   "cell_type": "code",
   "execution_count": 1,
   "metadata": {
    "collapsed": true
   },
   "outputs": [],
   "source": [
    "import numpy as np # linear algebra\n",
    "import pandas as pd # data processing, CSV file I/O (e.g. pd.read_csv)\n",
    "import matplotlib.pyplot as plt\n",
    "%matplotlib inline"
   ]
  },
  {
   "cell_type": "code",
   "execution_count": 2,
   "metadata": {
    "collapsed": false
   },
   "outputs": [
    {
     "name": "stderr",
     "output_type": "stream",
     "text": [
      "//anaconda/lib/python3.4/site-packages/ipykernel/__main__.py:10: SettingWithCopyWarning: \n",
      "A value is trying to be set on a copy of a slice from a DataFrame.\n",
      "Try using .loc[row_indexer,col_indexer] = value instead\n",
      "\n",
      "See the caveats in the documentation: http://pandas.pydata.org/pandas-docs/stable/indexing.html#indexing-view-versus-copy\n",
      "//anaconda/lib/python3.4/site-packages/ipykernel/__main__.py:13: SettingWithCopyWarning: \n",
      "A value is trying to be set on a copy of a slice from a DataFrame.\n",
      "Try using .loc[row_indexer,col_indexer] = value instead\n",
      "\n",
      "See the caveats in the documentation: http://pandas.pydata.org/pandas-docs/stable/indexing.html#indexing-view-versus-copy\n",
      "//anaconda/lib/python3.4/site-packages/ipykernel/__main__.py:19: SettingWithCopyWarning: \n",
      "A value is trying to be set on a copy of a slice from a DataFrame.\n",
      "Try using .loc[row_indexer,col_indexer] = value instead\n",
      "\n",
      "See the caveats in the documentation: http://pandas.pydata.org/pandas-docs/stable/indexing.html#indexing-view-versus-copy\n"
     ]
    },
    {
     "data": {
      "image/png": "[encoded data removed]",
      "text/plain": [
       "<matplotlib.figure.Figure at 0x106e7a9b0>"
      ]
     },
     "metadata": {},
     "output_type": "display_data"
    }
   ],
   "source": [
    "data = pd.read_csv('pitching.csv')\n",
    "\n",
    "#Selecting only the rows needed. Player ID, Yearn, Number of Games, number of games started, innings and walks\n",
    "data1 = data[['player_id','year','g','gs','ipouts','bb']]\n",
    "\n",
    "#Getting rid of pitchers who never started a game.\n",
    "data2 = data1[data1['gs']>0]\n",
    "\n",
    "#Function to obtain percentage of games started\n",
    "data2['percent'] = data['gs']/data['g']\n",
    "\n",
    "#ipouts contained the number of outs, by dividing it by 3 we get the number of innings.\n",
    "data2['ipouts']=data2['ipouts']/3\n",
    "\n",
    "#The games played and the games started now are the same.\n",
    "data3 = data2[['player_id','year','g','ipouts','bb']]\n",
    "\n",
    "#This function returns the average amount of innings per gamefor that pitcher in that year.\n",
    "data3['Ave_Inn'] = data3['ipouts']/data3['g']\n",
    "\n",
    "#This function returns the average amount of walks in a game for that pitcher in that year.\n",
    "data3['Ave_Walks']= data3['bb']/data3['g']\n",
    "\n",
    "#I want to round the average innings and walks to make more understandable.\n",
    "def Round(row):\n",
    "    return round(row['Ave_Inn'])\n",
    "\n",
    "def Round_W(row):\n",
    "    return round(row['Ave_Walks'])\n",
    "\n",
    "#rounding up solutions\n",
    "data3['Ave_Inn'] = data3.apply(lambda row: Round(row),1)\n",
    "\n",
    "data3['Ave_Walks'] = data3.apply(lambda row: Round_W(row),1)\n",
    "\n",
    "#We want pitchers that get pull out of the game\n",
    "data3 = data3[data3['Ave_Inn']<9]\n",
    "\n",
    "model = data3.groupby(['Ave_Walks'])['player_id'].count().reset_index()\n",
    "\n",
    "model.columns = ['N_Walks','N_Subs']\n",
    "\n",
    "x = model['N_Walks']\n",
    "y = model['N_Subs']\n",
    "\n",
    "plt.bar(x, y, color = 'red' )\n",
    "\n",
    "#plt.axis([0, 12,0, 13000])\n",
    "plt.xlabel('Walks')\n",
    "plt.ylabel('Substituted')\n",
    "plt.savefig('model.png')\n",
    "plt.savefig('model.pdf')\n",
    "plt.show()"
   ]
  },
  {
   "cell_type": "code",
   "execution_count": 3,
   "metadata": {
    "collapsed": false
   },
   "outputs": [
    {
     "data": {
      "text/html": [
       "<div>\n",
       "<table border=\"1\" class=\"dataframe\">\n",
       "  <thead>\n",
       "    <tr style=\"text-align: right;\">\n",
       "      <th></th>\n",
       "      <th>N_Walks</th>\n",
       "      <th>N_Subs</th>\n",
       "    </tr>\n",
       "  </thead>\n",
       "  <tbody>\n",
       "    <tr>\n",
       "      <th>0</th>\n",
       "      <td>0</td>\n",
       "      <td>724</td>\n",
       "    </tr>\n",
       "    <tr>\n",
       "      <th>1</th>\n",
       "      <td>1</td>\n",
       "      <td>9174</td>\n",
       "    </tr>\n",
       "    <tr>\n",
       "      <th>2</th>\n",
       "      <td>2</td>\n",
       "      <td>12101</td>\n",
       "    </tr>\n",
       "    <tr>\n",
       "      <th>3</th>\n",
       "      <td>3</td>\n",
       "      <td>3730</td>\n",
       "    </tr>\n",
       "    <tr>\n",
       "      <th>4</th>\n",
       "      <td>4</td>\n",
       "      <td>958</td>\n",
       "    </tr>\n",
       "    <tr>\n",
       "      <th>5</th>\n",
       "      <td>5</td>\n",
       "      <td>211</td>\n",
       "    </tr>\n",
       "    <tr>\n",
       "      <th>6</th>\n",
       "      <td>6</td>\n",
       "      <td>82</td>\n",
       "    </tr>\n",
       "    <tr>\n",
       "      <th>7</th>\n",
       "      <td>7</td>\n",
       "      <td>25</td>\n",
       "    </tr>\n",
       "    <tr>\n",
       "      <th>8</th>\n",
       "      <td>8</td>\n",
       "      <td>14</td>\n",
       "    </tr>\n",
       "    <tr>\n",
       "      <th>9</th>\n",
       "      <td>9</td>\n",
       "      <td>4</td>\n",
       "    </tr>\n",
       "    <tr>\n",
       "      <th>10</th>\n",
       "      <td>10</td>\n",
       "      <td>2</td>\n",
       "    </tr>\n",
       "    <tr>\n",
       "      <th>11</th>\n",
       "      <td>11</td>\n",
       "      <td>1</td>\n",
       "    </tr>\n",
       "  </tbody>\n",
       "</table>\n",
       "</div>"
      ],
      "text/plain": [
       "    N_Walks  N_Subs\n",
       "0         0     724\n",
       "1         1    9174\n",
       "2         2   12101\n",
       "3         3    3730\n",
       "4         4     958\n",
       "5         5     211\n",
       "6         6      82\n",
       "7         7      25\n",
       "8         8      14\n",
       "9         9       4\n",
       "10       10       2\n",
       "11       11       1"
      ]
     },
     "execution_count": 3,
     "metadata": {},
     "output_type": "execute_result"
    }
   ],
   "source": [
    "model"
   ]
  }
 ],
 "metadata": {
  "kernelspec": {
   "display_name": "Python 3",
   "language": "python",
   "name": "python3"
  },
  "language_info": {
   "codemirror_mode": {
    "name": "ipython",
    "version": 3
   },
   "file_extension": ".py",
   "mimetype": "text/x-python",
   "name": "python",
   "nbconvert_exporter": "python",
   "pygments_lexer": "ipython3",
   "version": "3.4.4"
  }
 },
 "nbformat": 4,
 "nbformat_minor": 0
}
